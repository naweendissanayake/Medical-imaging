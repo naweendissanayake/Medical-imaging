{
 "cells": [
  {
   "cell_type": "markdown",
   "id": "adcacdd5-4143-4e6a-a1b3-50a0d89fcf8f",
   "metadata": {},
   "source": [
    "<div style=\"display: flex; align-items: center;\">\n",
    "    <img src=\"https://www.avantihnw.com/api/rp/w1200/h630/aHR0cHM6Ly93d3cuYXZhbnRpaG53LmNvbS9kYXRhL2VuLzEvMDEvZmVkYmMyMTItN2M3Zi00NTJjLWE4YmItMjQ3Nzk5OTRlMWUyLmpwZw===.jpg\" alt=\"Image Alt Text\" width=\"300\" height=\"50\" style=\"margin-right: 40px;\">\n",
    "    <div style=\"font-size: 40px;\">\n",
    "         <strong> 1<sup>st</sup> lab <strong>\n",
    "             <br>\n",
    "             <br>\n",
    "    <div style=\"font-size: 30px;margin-right: 20px\">\n",
    "         <strong> X-Ray Computed Tomography <strong>\n",
    "    </div>\n",
    "</div>"
   ]
  },
  {
   "cell_type": "markdown",
   "id": "36acd9a8-1902-48f6-a93f-75e723ddd847",
   "metadata": {},
   "source": [
    "<table>\n",
    "  <tr>\n",
    "    <td style=\"background-color: rgba(114, 147, 203, 0.9); font-size: 15px; color: white; padding: 20px;\">\n",
    "      <div style=\"font-size: 20px\"> \n",
    "          <strong>XCT Module (2 x 2h)</strong><br>\n",
    "      </div>  \n",
    "      <ul>\n",
    "        <li> <strong> Week 1 : visualisation and using of ready-to-use functions</strong> (2h)</li>\n",
    "        <ul>\n",
    "           <li> discover scikit image libary for XCT \n",
    "           <li> read files\n",
    "           <li> plot profiles and global criteria\n",
    "           <li> projections, sinograms\n",
    "           <li> reconstruction with library functions (inverse Radon, FBP, SART)\n",
    "        </ul>\n",
    "        <br> \n",
    "        <li> <strong> Week 2 : code writing and analyses</strong> (2h)</li>\n",
    "        <ul>\n",
    "           <li> SART reconstruction code\n",
    "           <li> FBP coding\n",
    "           <li> compare with ready-to-use functions\n",
    "           <li> use of global and local metrics to compare the results\n",
    "        </ul>\n",
    "    </td>\n",
    "    <td style=\"background-color: rgba(225, 151, 76, 0.7); font-size: 15px; color: white; padding: 20px; vertical-align: top;\">\n",
    "    <div style=\"font-size: 20px\"> \n",
    "        <strong> MRI Module (2 x 2h)</strong><br>\n",
    "    </div> \n",
    "    <ul>\n",
    "        <li> <strong> Week 3 : visualisation and using of ready-to-use functions</strong> (2h)</li>\n",
    "        <ul>\n",
    "           <li> discover scikit image libary for MRI\n",
    "           <li> read files\n",
    "           <li> K-space coding\n",
    "        </ul>\n",
    "        <br> \n",
    "        <li> <strong> Week 4 : analyses and interpretations </strong> (2h)</li>\n",
    "    </td>\n",
    "    <td style=\"background-color: rgba(132, 186, 91, 0.8); font-size: 15px; color: white; padding: 20px; vertical-align: top;\">\n",
    "    <div style=\"font-size: 20px\"> \n",
    "      <strong> Numerisation Module (2 x 2h)</strong><br>\n",
    "    </div> \n",
    "      <ul>\n",
    "        <li> <strong> Week 5 : depth map exploration </strong> (2h)</li>\n",
    "        <br> \n",
    "        <li> <strong> Week 6 : point cloud and mesh understanding</strong> (2h)</li>\n",
    "    </td>\n",
    "  </tr>\n",
    "</table>\n"
   ]
  },
  {
   "cell_type": "markdown",
   "id": "eb3b8c1c-47cd-4509-aa21-8a0956ab84b4",
   "metadata": {},
   "source": [
    "<div style=\"display: flex; align-items: center;\">\n",
    "    <img src=\"https://img.freepik.com/premium-vector/warning-signs-high-voltage-hazard-isolated-white-background_68708-427.jpg?w=2000\" alt=\"Image Alt Text\" width=\"50\" height=\"50\" style=\"margin-right: 20px;\">\n",
    "    <div style=\"font-size: 15px;margin-right: 30px\">\n",
    "            Each lab must be completed before the beginning of the other lab session. \n",
    "        <br> \n",
    "          <strong>Don't forget to entitle your .ipynb file with your name and surname. <strong>\n",
    "        <br> \n",
    "         The final submission of the first module has to be done <strong> by Tuesday 3<sup>rd </sup>October before 10 am.</strong>\n",
    "    </div>\n",
    "</div>"
   ]
  },
  {
   "cell_type": "markdown",
   "id": "e2eec5f3-d6b0-45f5-860c-8ce6de53f425",
   "metadata": {},
   "source": [
    "<table>\n",
    "      <td style=\"border-left: 3px solid rgba(114, 147, 203, 0.9); background-color: rgba(114, 147, 203, 0.1); font-size: 15px; color: blakc; padding-left: 30px;\">\n",
    "        Don't forget to legend your figures and graphs. Interpretations are expected and must by short but comprehensive.  \n",
    "      </td>\n",
    "</table>"
   ]
  },
  {
   "cell_type": "markdown",
   "id": "bb7216e8-bbb5-47a0-84e3-97385f582485",
   "metadata": {},
   "source": [
    "#### Contact : meghna-parameswaran.ayyar@u-bordeaux.fr\n",
    "\n",
    "Or from your UBx email just type in Meghna and select the email that ends with u-bordeaux.fr"
   ]
  },
  {
   "cell_type": "markdown",
   "id": "b1cb34d5-0fe0-4678-b72d-b4a423eb6f2d",
   "metadata": {},
   "source": [
    "<div style=\"display: flex; align-items: center;\">\n",
    "    <img src=\"https://upload.wikimedia.org/wikipedia/commons/thumb/c/c7/SheppLogan_Phantom.svg/1200px-SheppLogan_Phantom.svg.png\" alt=\"Image Alt Text\" width=\"100\" height=\"100\" style=\"margin-right: 20px;\">\n",
    "    <div style=\"font-size: 30px;\">\n",
    "         <strong> Part 1<strong>\n",
    "    <div style=\"font-size: 20px;margin-right: 30px\">\n",
    "         <strong> Understand the importance of using a phantom <strong>\n",
    "    </div>\n",
    "</div>"
   ]
  },
  {
   "cell_type": "markdown",
   "id": "274b457b-37d9-4a51-8cc4-b345476342d1",
   "metadata": {},
   "source": [
    "<div style=\"display: flex; align-items: center;\">\n",
    "    <img src=\"https://upload.wikimedia.org/wikipedia/commons/3/38/Scikit-image_logo.png\" alt=\"Image Alt Text\" width=\"50\" height=\"50\" style=\"margin-right: 20px;\">\n",
    "    <div style=\"font-size: 20px;margin-right: 15px\">\n",
    "           The library <strong>Scikit-image</strong> will be used in the two labs. \n",
    "          <br>\n",
    "            You can call it with <strong>skimage</strong>\n",
    "    </div>\n",
    "</div>"
   ]
  },
  {
   "cell_type": "markdown",
   "id": "98aabbb1-e9a7-4b28-894a-962e340500ee",
   "metadata": {},
   "source": [
    "<div style=\"display: flex; align-items: center;\">\n",
    "    <img src=\"https://3.bp.blogspot.com/-wSQzU9YP6SA/UDx5MgJLkII/AAAAAAAAAS8/b4V87AbWXiE/s1600/sinogramScheme.png\" alt=\"Image Alt Text\" width=\"500\" height=\"500\" style=\"margin-right: 20px;\">\n",
    "    <div style=\"font-size: 20px;\">\n",
    "        The <strong>Radon transform </strong> is a mathematical operation intrinsically linked to the field of X-ray computed tomography (XCT). It serves as the mathematical foundation that enables XCT scanners to convert X-ray projections taken at various angles around a subject into meaningful cross-sectional images of the internal structures.\n",
    "        <br>\n",
    "        It is a mathematical technique that takes a two-dimensional image and transforms it into a one-dimensional signal or set of line integrals (projections).\n",
    "    </div>\n",
    "</div>"
   ]
  },
  {
   "cell_type": "markdown",
   "id": "787b6f59-386a-4cb2-a647-6a2d440339c8",
   "metadata": {},
   "source": [
    "<div style=\"display: flex; align-items: center;\">\n",
    "    <img src=\"https://upload.wikimedia.org/wikipedia/commons/9/93/Radon_transform_sinogram.gif\" alt=\"Image Alt Text\" width=\"500\" height=\"500\" style=\"margin-right: 250px;\">\n",
    "    <img src=\"https://www.liverpool.ac.uk/media/livacuk/scienceandengineering/sharedresearchfacilities/XCT_schematic.png\" alt=\"Image Alt Text\" width=\"500\" height=\"500\" style=\"margin-right: 20px;\">\n",
    "</div>"
   ]
  },
  {
   "cell_type": "markdown",
   "id": "1937a5aa-abd4-4f7f-918e-85b90ca13cc3",
   "metadata": {},
   "source": [
    "### Tasks\n",
    "\n",
    "- Load the necessary librairies\n",
    "- Load Sheep-Logan (SL) phantom and resize it\n",
    "- Load the functions to get the Radon and inverse Radon transforms\n",
    "  \n",
    "### Questions \n",
    "\n",
    "1) Load the image, what is a phantom ? What is special about this phantom ?\n",
    "   \n",
    "- compute the Radon transform of the phantom \n",
    "2) Explain what is a sinogram in your words.\n",
    "  Give the rotation direction of the Radon transform.\n",
    "  \n",
    "  Hint : Check the source code (Find the rotation matrix)\n",
    "    \n",
    "- Don't forget to plot the colorbar for both the input image and its reconstruction.\n",
    "3) Can you guess why the gray levels are not the same ?\n",
    "\n",
    "- Vary the number of projections and angles\n",
    "4) What property can be assumed concerning the Radon transform ?\n",
    "\n",
    "To display images or graphs,\n",
    "  - Use the matplotlib library, set the 'cmap' to gray\n",
    "  - Make sure the plots are well titled with all the labels and the legend"
   ]
  },
  {
   "cell_type": "markdown",
   "id": "f8927b94-8a5e-451b-b0e1-6f1887028f94",
   "metadata": {},
   "source": [
    "#### Sources\n",
    "- SL : phantom https://en.wikipedia.org/wiki/Shepp%E2%80%93Logan_phantom\n",
    "- first paper on SL phantom : https://web.archive.org/web/20160304035526/http://stat.wharton.upenn.edu/~shepp/publications/33.pdf"
   ]
  },
  {
   "cell_type": "code",
   "execution_count": 2,
   "id": "297ebb24-c1c1-48d7-a248-9b126da93c10",
   "metadata": {},
   "outputs": [],
   "source": [
    "#CODE"
   ]
  },
  {
   "cell_type": "markdown",
   "id": "deb234f0-526c-46b4-b7ac-35c291d72e42",
   "metadata": {},
   "source": [
    "INTERPRETATIONS\n",
    "\n",
    "1)\n",
    "2)\n",
    "3)\n",
    "4)"
   ]
  },
  {
   "cell_type": "markdown",
   "id": "e4410a96-6797-469f-b529-3c0cbf54265c",
   "metadata": {},
   "source": [
    "<table>\n",
    "      <td style=\"border-left: 3px solid rgba(114, 147, 203, 0.9); background-color: rgba(114, 147, 203, 0.1); font-size: 15px; color: blakc; padding-left: 100px;\">\n",
    "        For the rest of of the TD, keep the following parameters : \n",
    "        <ul>\n",
    "           <li> size of the input image : 300 \n",
    "           <li> numbers projections : 1000\n",
    "           <li> angle : 360 \n",
    "        </ul>\n",
    "</table>"
   ]
  },
  {
   "cell_type": "markdown",
   "id": "2feeeb18-eb7a-45b5-9d0f-3f0cd108378d",
   "metadata": {},
   "source": [
    "<div style=\"display: flex; align-items: center;\">\n",
    "    <img src=\"https://www.researchgate.net/publication/308388024/figure/fig1/AS:408765963751425@1474468808968/The-image-reconstruction-process-of-the-FBP-algorithm-Each-set-of-projection-data-taken.png\" alt=\"Image Alt Text\" width=\"200\" height=\"200\" style=\"margin-right: 20px;\">\n",
    "    <div style=\"font-size: 30px;\">\n",
    "         <strong> Part 2<strong>\n",
    "    <div style=\"font-size: 20px;margin-right: 30px\">\n",
    "         <strong> Analytical reconstruction <strong>\n",
    "    </div>\n",
    "</div>"
   ]
  },
  {
   "cell_type": "markdown",
   "id": "49fcd785-287a-456b-85a9-34b76631d07b",
   "metadata": {},
   "source": [
    "### Step by step"
   ]
  },
  {
   "cell_type": "markdown",
   "id": "0f01af55-4388-43d7-b49a-13e1dd7ecbe8",
   "metadata": {},
   "source": [
    "Using the `iradon` function reconstruct the image from the SL sinogram.\n",
    "\n",
    "What is the default filter of this function? Explain it briefly.\n",
    "\n",
    "First, try to reconstruct the image using a few projections and later keep adding more projections, see how it works."
   ]
  },
  {
   "cell_type": "code",
   "execution_count": 22,
   "id": "6834b66a-4ded-4018-9f58-119f1a0a6bc8",
   "metadata": {},
   "outputs": [],
   "source": [
    "#CODE and INTERPRETATIONS"
   ]
  },
  {
   "cell_type": "markdown",
   "id": "730bd8d2-d3bb-4a60-a329-8ab6025a7664",
   "metadata": {},
   "source": [
    "### Profiles and image analysis"
   ]
  },
  {
   "cell_type": "markdown",
   "id": "820c6f43-9e28-4f14-a5df-682ee213e22e",
   "metadata": {},
   "source": [
    "1) How close is the reconstructed image from the input image ? compare it with a relevant operation or criterion \n",
    "- Hint: Fourier spectrum could be an option. Try others\n",
    "   \n",
    "- Extract intensity profiles in the input and the reconstructed image. The input can be the Ground Truth.\n",
    "2) Focus your profile extraction where there are differences between the two images and comment."
   ]
  },
  {
   "cell_type": "code",
   "execution_count": 15,
   "id": "5c600a9d-7b9e-4925-9e96-5d705e21fa56",
   "metadata": {},
   "outputs": [],
   "source": [
    "#CODE"
   ]
  },
  {
   "cell_type": "markdown",
   "id": "b21c30e1-acd5-41d2-b6e8-5871830aaff7",
   "metadata": {},
   "source": [
    "INTERPRETATIONS\n",
    "\n",
    "1)\n",
    "2)"
   ]
  },
  {
   "cell_type": "markdown",
   "id": "35f0c0fd-9371-4b0b-a70a-a981c59761cf",
   "metadata": {},
   "source": [
    "### Filters"
   ]
  },
  {
   "cell_type": "markdown",
   "id": "e3b904a5-1c66-4ec2-86f3-f839d8e653c5",
   "metadata": {},
   "source": [
    "1. Plot all the filters used for reconstruction by the radon transform function and its assiociated reconstructed image\n",
    "\n",
    "2. Remember a property of the frequencies of the FFT when a filter is plotted.\n",
    "\n",
    "3. When you don't use a filter, you compute the inverse Radon transform. Do you understand now why a filtered reconstruction is needed ?"
   ]
  },
  {
   "cell_type": "code",
   "execution_count": 23,
   "id": "9d835b58-e71d-4cdf-b9de-7b167e887b66",
   "metadata": {},
   "outputs": [],
   "source": [
    "#CODE and INTERPRETATIONS"
   ]
  },
  {
   "cell_type": "markdown",
   "id": "039d2647-6363-46b3-8635-265cdfe99e56",
   "metadata": {},
   "source": [
    "#### Sources\n",
    "- https://demonstrations.wolfram.com/ComputedTomographySimulationUsingTheRadonTransform/\n",
    "- The Mathematics of Medical Imaging A Beginner’s Guide, Freeman"
   ]
  },
  {
   "cell_type": "markdown",
   "id": "c8aca0a2-61b6-4c88-a1fa-735575b0bab2",
   "metadata": {},
   "source": [
    "### Bonus : play with SL phantom"
   ]
  },
  {
   "cell_type": "markdown",
   "id": "5cbfb515-e070-4d5e-8c52-ce8d77dd1489",
   "metadata": {},
   "source": [
    "Let's modify the SL phantom to understand the smaller parts and reconstruct them.\n",
    "\n",
    "### Tasks : \n",
    "\n",
    "Play with the code below to remove some of the ellipses of the SL phantom. Observe the effect after the Radon transform and therefore the sinogram.\n",
    "- Run the code\n",
    "- For two examples, remove an ellipse from the SL phantom and compute the Radon transform\n",
    "- Compute the Radon transform of one ellipse on one side and a Radon transform of the SL phantom without that ellipse on the other side\n",
    "- Reconstruct the individual and the sum of the sinograms and compare with the input image, *COMMENT*.\n",
    "  \n",
    "-> You will notice the difficulty to dissociate each ellipse in the sinogram even though there are perfectly visible in the input image\n",
    "\n",
    "-> You will understand the impact of the discretize representation compared to the continuous one."
   ]
  },
  {
   "cell_type": "code",
   "execution_count": 11,
   "id": "9fd2d301-d774-44ca-a904-93ee931b3e51",
   "metadata": {},
   "outputs": [],
   "source": [
    "import numpy as np\n",
    "def shepp_logan_canvas():\n",
    "    p1 = np.array([1, .69, .92, 0, 0, 0])\n",
    "    p2 = np.array([-.98, .6624, .8740, 0, -.0184, 0])\n",
    "    p3 = np.array([-.2, .1100, .3100, .22, 0, -18])\n",
    "    p4 = np.array([-.2, .1600, .4100, -.22, 0, 18])\n",
    "    p5 = np.array([.1, .2100, .2500, 0, .35, 0])\n",
    "    p6 = np.array([.1, .0460, .0460, 0, .1, 0])\n",
    "    p7 = np.array([.2, .0460, .0460, 0, -.1, 0])\n",
    "    p8 = np.array([.1, .0460, .0230, -.08,  -.605, 0])\n",
    "    p9 = np.array([.1, .0230, .0230, 0, -.606, 0])\n",
    "    p10 = np.array([.1, .0230, .0460, .06, -.605, 0])\n",
    "    P = np.vstack((p1, p2, p3, p4, p5, p6, p7, p8, p9, p10))\n",
    "    #P = np.vstack((p1, p2, p4, p5, p6, p7, p8, p9, p10)) #without p3\n",
    "    return P\n",
    "\n",
    "def phantom(canvas, n=300):\n",
    "\tp = np.zeros ((n, n))\n",
    "\tygrid, xgrid = np.mgrid[1:-1:(1j*n), -1:1:(1j*n)]\n",
    "\tfor ellip in canvas:\n",
    "\t\tI   = ellip [0]\n",
    "\t\ta2  = ellip [1]**2\n",
    "\t\tb2  = ellip [2]**2\n",
    "\t\tx0  = ellip [3]\n",
    "\t\ty0  = ellip [4]\n",
    "\t\tphi = ellip [5] * np.pi / 180 \n",
    "\t\tx = xgrid - x0\n",
    "\t\ty = ygrid - y0\n",
    "\t\tcos_p = np.cos(phi) \n",
    "\t\tsin_p = np.sin(phi)\n",
    "\t\tlocs = (((x * cos_p + y * sin_p)**2) / a2 \n",
    "              + ((y * cos_p - x * sin_p)**2) / b2) <= 1\n",
    "\t\tp [locs] += I\n",
    "\treturn p"
   ]
  },
  {
   "cell_type": "code",
   "execution_count": 12,
   "id": "e25e33fc-1a54-407a-a0ae-efc576aab0ea",
   "metadata": {},
   "outputs": [],
   "source": [
    "SL = phantom(canvas = shepp_logan_canvas())"
   ]
  },
  {
   "cell_type": "code",
   "execution_count": null,
   "id": "118b5b76-fadb-44f2-a8cd-c8349050ba64",
   "metadata": {},
   "outputs": [],
   "source": [
    "#CODE and INTERPRETATIONS"
   ]
  },
  {
   "cell_type": "markdown",
   "id": "f1800cdf-e5c4-4a11-9fee-4ad6cea03928",
   "metadata": {},
   "source": [
    "### Bonus 2 : follow the Radon transform of a point with a sinus function "
   ]
  },
  {
   "cell_type": "markdown",
   "id": "71b6dbf5-aba2-49b1-8bc0-65c8da04f031",
   "metadata": {},
   "source": [
    "You will try to follow the sinus curve in the sinogram.\n",
    "Using the link between the cartesian space and the polar space, having (x, y) coordinates you can find the amplitude and phase of the sinus. \n",
    "Compute the function `polar_transform`"
   ]
  },
  {
   "cell_type": "code",
   "execution_count": null,
   "id": "639f6a6b-8bb5-48b6-80fb-37de1af60b03",
   "metadata": {},
   "outputs": [],
   "source": [
    "x_new, y_new = 15, 10\n",
    "size = 40\n",
    "proj = 100\n",
    "img = np.zeros((size, size))\n",
    "img[y_new, x_new] = 1\n",
    "S = radon(img, theta=np.linspace(0, 360, proj))\n",
    "offset = size//2\n",
    "f = 1/proj\n",
    "proj_vect = np.float64([i for i in range(proj)])\n",
    "\n",
    "def sinusoidal_curve(x, amplitude, phase):\n",
    "    return amplitude * np.sin(2 * np.pi * f * x + phase) + offset\n",
    "\n",
    "def polar_transform(x, y, offset):\n",
    "    # write code here\n",
    "    return A, phi\n",
    "\n",
    "plt.figure(figsize=(30, 5))\n",
    "plt.subplot(121)\n",
    "plt.imshow(img, cmap=\"gray\")\n",
    "plt.plot(x_new, y_new, \"*y\", label=\"Point\")\n",
    "plt.plot(offset, offset, \"*r\", label=\"Rotation center\")\n",
    "plt.xlabel(\"x\")\n",
    "plt.ylabel(\"y\")\n",
    "plt.title(\"Image of a point at (%.2i, %.2i)\" %(x_new, y_new))\n",
    "plt.legend()\n",
    "\n",
    "plt.subplot(122)\n",
    "plt.plot([0, proj_vect[-1]], [offset, offset], \"--r\", label=\"Rotation center\")\n",
    "polar_coord = polar_transform(x_new, y_new, offset)\n",
    "plt.plot(proj_vect, sinusoidal_curve(proj_vect, polar_coord[0], polar_coord[1]), \"--\", label=\"Polar coordinates (%.2f, %.2f)\" %(polar_coord[0], polar_coord[1]))\n",
    "plt.imshow(S, cmap=\"gray\")\n",
    "plt.legend()\n",
    "plt.title(\"Sinogram\")\n",
    "plt.xlabel(\"Projections\")\n",
    "plt.show()"
   ]
  },
  {
   "cell_type": "markdown",
   "id": "c3b42e1f-7a88-4358-9b59-5f859999c164",
   "metadata": {},
   "source": [
    "<div style=\"display: flex; align-items: center;\">\n",
    "    <img src=\"https://www.idtools.com.au/site_2021/wp-content/uploads/2021/04/tomography-algorithms-1024x498-1.png\" alt=\"Image Alt Text\" width=\"400\" height=\"400\" style=\"margin-right: 20px;\">\n",
    "    <div style=\"font-size: 30px;\">\n",
    "         <strong> Part 3<strong>\n",
    "    <div style=\"font-size: 20px;margin-right: 30px\">\n",
    "         <strong> Iterative/Algebraic reconstruction   <strong>\n",
    "    </div>\n",
    "</div>"
   ]
  },
  {
   "cell_type": "markdown",
   "id": "e9df7d5a-cde4-43ec-9bf8-6d04a334120b",
   "metadata": {},
   "source": [
    "### Tasks\n",
    "\n",
    "1. Use SART from the library to reconstruct the image from the SL sinogram\n",
    "What type of reconstruction it is ? Explain it briefly.\n",
    "\n",
    "2. Vary the number of iterations and calculate for each one a global criteria such as SNR or CNR.\n",
    "\n",
    "3. Go back to the source code and check the initialization of SART with an argument called `image`. You can initialise the function with the previous output.\n",
    "This type of reconstruction is *iterative* and can go on and on. \n",
    "\n",
    "i. Define and implement your criterion function\n",
    "\n",
    "ii. Plot and comment on how your criterion evolves according to iterations.\n",
    "\n",
    "iii. Compare the output image after a SART reconstruction with three iterations with the phantom, do you notice the same difference as with the FBP reconstruction ?"
   ]
  },
  {
   "cell_type": "code",
   "execution_count": null,
   "id": "e9b5896e-c9a4-4b9c-bed0-e5f9c6b6828b",
   "metadata": {},
   "outputs": [],
   "source": [
    "#CODE "
   ]
  },
  {
   "cell_type": "markdown",
   "id": "5600d2e3-9b8b-422a-acfe-5c14602c0400",
   "metadata": {},
   "source": [
    "INTERPRETATIONS\n",
    "\n",
    "1)\n",
    "2)\n",
    "3)"
   ]
  },
  {
   "cell_type": "markdown",
   "id": "ef3cf330-3bc3-4d13-b25e-802968f587d6",
   "metadata": {},
   "source": [
    "<strong> Conclusions with local and global criteria for the analysis of an image <strong>\n",
    "<table>\n",
    "  <tr>\n",
    "    <td style=\"background-color: rgba(114, 147, 203, 0.9); font-size: 15px; color: white; padding: 20px;\">\n",
    "      <div style=\"font-size: 20px\"> \n",
    "          <strong>Local criteria</strong><br>\n",
    "      </div>  \n",
    "      <ul>\n",
    "           <li> Profiles \n",
    "           <li> Modulation Transfer Function (Fourier based analysis of a pixels at edges)\n",
    "        </ul>\n",
    "    </td>\n",
    "    <td style=\"background-color: rgba(225, 151, 76, 0.7); font-size: 15px; color: white; padding: 20px; vertical-align: top;\">\n",
    "    <div style=\"font-size: 20px\"> \n",
    "        <strong> Global criteria </strong><br>\n",
    "    </div> \n",
    "    <ul>\n",
    "           <li> MSE (Mean Square Error): the sipmlest but can be inappropriate in some cases\n",
    "           <li> SNR (Signal to Noise Ratio) : the higher the better\n",
    "           <li> CNR (Contrast to Noise Ratio) : useful with gray level images where distinguishing different parts of an image is necessary\n",
    "            We want to screen the composition of the object, which is called the tomodensitometry\n",
    "           <li> Similirarity criteria like Structural Similarity Index (SSIM)\n",
    "        </ul>\n",
    "    </td>\n",
    "  </tr>\n",
    "</table>\n"
   ]
  },
  {
   "cell_type": "markdown",
   "id": "b6448e91",
   "metadata": {},
   "source": [
    "The next lab will deal with the analysis of different reconstructions and how to check their quality. These criteria are some hints about some of the types of metrics used. You can also think of other metrics that you may have come across. \n",
    "\n",
    "An interesting exercise/thought would be to look at the adavantages and limitations of these two types of criteria. When would they be useful? When would they fail? What would be the edge cases when these metrics could look good but in reality are not informative at all?\n",
    "\n",
    "**NOTE** You do not have to answer them right now. They will be a part of the next week's lab. This is a quick idea to prepare you for that."
   ]
  },
  {
   "cell_type": "markdown",
   "id": "1a68eed7-99ce-4465-95a6-28fc9e9207a2",
   "metadata": {},
   "source": [
    "<div style=\"display: flex; align-items: center;\">\n",
    "    <img src=\"https://upload.wikimedia.org/wikipedia/commons/thumb/e/ef/Diffraction_MTF_05_MtfHF.gif/1920px-Diffraction_MTF_05_MtfHF.gif\" width=\"700\" height=\"700\" style=\"margin-right: 20px;\">\n",
    "    <br>\n",
    "      <div style=\"font-size: 20px\"> \n",
    "          <strong>Bonus : play with the MTF (Modulation Transfer Function) </strong>\n",
    "          <br>\n",
    "        <ul>\n",
    "           <li> Frequently used to characterize optical systems\n",
    "           <li> It measures the ability of a system to represent frequencies  \n",
    "           <li> In tomography, it is related to the resolution of the XCT scan. \n",
    "            We try to reach the limit until it is possible to distingish between two materials of opposed contrasts.\n",
    "        </ul>\n",
    "    </div>\n",
    "</div>"
   ]
  },
  {
   "cell_type": "markdown",
   "id": "bf11a85c-6ca1-4f02-a4a1-031939cb8041",
   "metadata": {},
   "source": [
    "1) Compute the derivation of the ESF of the region of interest"
   ]
  },
  {
   "cell_type": "code",
   "execution_count": null,
   "id": "87973148-865a-4373-8a19-b04b259eb591",
   "metadata": {},
   "outputs": [],
   "source": [
    "import matplotlib.pyplot as plt\n",
    "res = 0.1\n",
    "LOI = 20\n",
    "plt.figure(figsize=(30,5))\n",
    "plt.subplot(131)\n",
    "plt.imshow(image, cmap=\"gray\")\n",
    "vect = [i for i in range(90, 130)]\n",
    "plt.plot(vect, LOI*np.ones_like(vect), \"-r\")\n",
    "plt.title(\"Input image\")\n",
    "plt.subplot(132)\n",
    "profile = image[LOI, vect]\n",
    "vect_zero_start = res * np.array([i for i in range(0, len(vect))])\n",
    "plt.plot(vect, profile, \"-*\")\n",
    "plt.title(\"ESF (Edge Spread Function)\")\n",
    "plt.xlabel(\"Position (mm)\")\n",
    "plt.subplot(133)\n",
    "dprofile = #compute the derivation of the function\n",
    "plt.plot(vect, dprofile, \"-*\")\n",
    "plt.title(\"LSF (Line Spread Function)\")\n",
    "plt.xlabel(\"Position (mm)\")\n",
    "plt.show()"
   ]
  },
  {
   "cell_type": "markdown",
   "id": "a2f7ba31-1df4-4499-8082-2cb04b9e85fa",
   "metadata": {},
   "source": [
    "2) Compute FFT of the LSF "
   ]
  },
  {
   "cell_type": "code",
   "execution_count": null,
   "id": "d3053dd2-c796-4e99-a0d4-b455d62d1014",
   "metadata": {},
   "outputs": [],
   "source": [
    "mtf = #compute the fft of the function and get only its modulus part\n",
    "mtf = mtf[:]/np.max(mtf)\n",
    "mtf = mtf[0:len(mtf)//2]\n",
    "step = 5\n",
    "f = np.arange(0, len(mtf)*step, step)\n",
    "plt.plot(f, mtf, \"*\")\n",
    "plt.plot([0, len(mtf)*step], [0.5, 0.5], \"-y\", label=\"MTF 50%\")\n",
    "plt.title(\"MTF\")\n",
    "plt.xlabel(\"Spatial frequencies (lp/mm)\")\n",
    "plt.ylabel(\"%Contrast\")\n",
    "plt.legend()\n",
    "plt.show()"
   ]
  },
  {
   "cell_type": "markdown",
   "id": "9f90dad7-bbcf-45c0-951b-14c618354246",
   "metadata": {},
   "source": [
    "3) Run the code and interpret"
   ]
  },
  {
   "cell_type": "code",
   "execution_count": 14,
   "id": "ac09ddc7-bcfa-4b6b-b72e-874d0592794b",
   "metadata": {},
   "outputs": [
    {
     "data": {
      "image/png": "[encoded data removed]",
      "text/plain": [
       "<Figure size 1000x500 with 2 Axes>"
      ]
     },
     "metadata": {},
     "output_type": "display_data"
    }
   ],
   "source": [
    "import numpy as np\n",
    "import matplotlib.pyplot as plt\n",
    "x0 = 2\n",
    "sigma = 0.01\n",
    "A = 1\n",
    "res = 0.1\n",
    "nbr = 40\n",
    "step = 5\n",
    "vect = np.arange(0, nbr*res, res)\n",
    "sigmas = [0.01, 0.5, 2]\n",
    "colors = [\"r\", \"y\", \"g\"]\n",
    "vect_zero_start = res * np.array([i for i in range(0, len(vect))])\n",
    "\n",
    "def get_intensity(x, A, x0, sigma):\n",
    "\treturn A * np.exp(-(x - x0) ** 2 / (2 * sigma ** 2))\n",
    "     \n",
    "fig, (ax1, ax2) = plt.subplots(1, 2, figsize=(10,5))\n",
    "ax1.set_title(\"LSF (Gaussian)\")\n",
    "ax1.set_xlabel(\"Position (mm)\")\n",
    "ax1.set_ylabel(\"Niveau de gris\")\n",
    "\n",
    "ax2.set_title(\"MTF (zoom)\")\n",
    "ax2.plot([0, (len(vect)//6)*step], [0.5, 0.5], \"--\", label=\"MTF 50%\")\n",
    "ax2.set_xlabel(\"Spatial frequencies (lp/mm)\")\n",
    "ax2.set_ylabel(\"%Contrast\")\n",
    "ax2.legend()\n",
    "\n",
    "for i in range(3):\n",
    "  sigma = sigmas[i]\n",
    "  color = colors[i]\n",
    "  g = get_intensity(vect, A, x0, sigma)\n",
    "  ax1.plot(vect_zero_start, g, color, label=\"$\\sigma$=%.2f\" %(sigma))\n",
    "  ax1.legend()\n",
    "\n",
    "  mtf = abs(np.fft.fft(g))\n",
    "  mtf = mtf[:]/np.max(mtf)\n",
    "  mtf = mtf[0:len(mtf)//2]\n",
    "  f = np.arange(0, len(mtf)*step, step)\n",
    "\n",
    "  ax2.plot(f[:len(f)//3], mtf[:len(f)//3], color, label=\"$\\sigma$=%.2f\" %(sigma))\n",
    "  ax2.legend()"
   ]
  },
  {
   "cell_type": "markdown",
   "id": "87e19f7c-6882-42da-91f5-ab8e9dbb4297",
   "metadata": {},
   "source": [
    "<strong> Answer <strong> : When the LSF is closed to a Dirac distribution, it corresponds to a strong gradient between two pixels in the input image therefore the corresponding ESF curve. \n",
    "\n",
    "Consequently, the MTF...  <strong> comment its contrast<strong>\n",
    "\n",
    "On the other hand, when the gradient is smooth, it is harder to distingish the contrast... <strong> comment the MTF behaviour <strong>"
   ]
  },
  {
   "cell_type": "markdown",
   "id": "286a6889-d604-4fdb-9af2-b8b60e91ff4c",
   "metadata": {},
   "source": [
    "<div style=\"display: flex; align-items: center;\">\n",
    "    <img src=\"https://upload.wikimedia.org/wikipedia/commons/2/25/TomographyPrinciple_Illustration.png \" alt=\"Image Alt Text\" width=\"200\" height=\"200\" style=\"margin-right: 20px;\">\n",
    "    <div style=\"font-size: 30px;\">\n",
    "         <strong> Appendix<strong>\n",
    "    <div style=\"font-size: 20px;margin-right: 30px\">\n",
    "         <strong>  3D XCT crankcase and 3D sinogram <strong>\n",
    "    </div>\n",
    "</div>"
   ]
  },
  {
   "cell_type": "markdown",
   "id": "5f1252a9-9146-42f2-917c-3635cde3067d",
   "metadata": {},
   "source": [
    "### Tasks\n",
    "\n",
    "We will work with a 3D. Tag Image File Format (TIFF) file a format widely used in tomography.\n",
    "\n",
    "Digital Imaging and Communications in Medicine (DICOM) is the standard for the communication and management of medical imaging information and related data.\n",
    "In python, we will use the library `tiffile` to load the image.\n",
    "To work with 3D interactively, `plotly` is a good librairy."
   ]
  },
  {
   "cell_type": "code",
   "execution_count": 3,
   "id": "772ba061-0fd3-4ae2-997d-4264a17d6b13",
   "metadata": {},
   "outputs": [],
   "source": [
    "import tifffile\n",
    "import plotly.graph_objects as go\n",
    "# function to convert transmission based image into attenuation images\n",
    "def correction_norm(matrix):\n",
    "    matrix = -np.log(matrix)\n",
    "    mn = np.min(matrix)\n",
    "    matrix_zero_bound = matrix - mn\n",
    "\n",
    "    mx = np.max(matrix_zero_bound)\n",
    "    matrix_one_bound = matrix_zero_bound/mx\n",
    "    return matrix_one_bound\n",
    "\n",
    "# recreate the 3D volume\n",
    "def compute_proj_correction(matrix):\n",
    "    matrix = np.uint16(matrix)\n",
    "    proj_corrected_3D = np.empty((matrix.shape[0], matrix.shape[1], matrix.shape[2]))\n",
    "    for i in range(matrix.shape[0]):\n",
    "        c1 = correction_norm(matrix[i])\n",
    "        proj_corrected_3D[i] = c1\n",
    "    return proj_corrected_3D\n",
    "\n",
    "# get the sinogram\n",
    "def _3D_to_sinogramme_corr(path, num):\n",
    "    obj_3D = tifffile.imread(path)\n",
    "    obj_3D_sino = np.transpose(obj_3D, (1, 2, 0))\n",
    "    obj_3D_sino = obj_3D_sino[:, 1:-1, :]\n",
    "    obj_3D_sino_corr = compute_proj_correction(obj_3D_sino)\n",
    "    obj_2D_sino_corr = obj_3D_sino_corr[num]\n",
    "    plt.figure(figsize=(10,10))\n",
    "    plt.imshow(obj_2D_sino_corr, cmap=\"gray\")\n",
    "    plt.title(\"Sinogram at the height of %.i\" %num)\n",
    "    plt.xlabel(\"Projections\")\n",
    "    plt.colorbar()\n",
    "    plt.show()\n",
    "    return obj_2D_sino_corr\n",
    "\n",
    "# get the 3D plot\n",
    "def plot_3D(title, matrix, proj, size):\n",
    "  x = np.array([i for i in range(proj)])\n",
    "  y = np.array([i for i in range(size)])\n",
    "  X, Y = np.meshgrid(x, y)\n",
    "  Z = matrix\n",
    "  fig = go.Figure(data=[go.Surface(z=Z, x=X, y=Y)])\n",
    "  fig.update_traces(contours_z=dict(show=True, usecolormap=True,\n",
    "                                  highlightcolor=\"limegreen\", project_z=True))\n",
    "  fig.update_layout(title=title,\n",
    "                  width=1000, height=1000,\n",
    "                  margin=dict(l=65, r=50, b=65, t=90),\n",
    "                    scene=dict(\n",
    "            xaxis_title='Projections',\n",
    "            yaxis_title='Image size',\n",
    "            zaxis_title='Intensities'\n",
    "        ))\n",
    "  fig.show()"
   ]
  },
  {
   "cell_type": "markdown",
   "id": "2581c62e-027b-4d46-9f51-a69b1d577fcd",
   "metadata": {},
   "source": [
    "### Plot one projection = radiography"
   ]
  },
  {
   "cell_type": "code",
   "execution_count": null,
   "id": "ad739fc0-55fb-4d95-aaca-fba541e78884",
   "metadata": {},
   "outputs": [],
   "source": [
    "plt.figure(figsize=(10,10))\n",
    "path = # fill in\n",
    "proj_crankcase = tifffile.imread(path)\n",
    "proj_crankcase_3D_corr = compute_proj_correction(proj_crankcase[:, :, 1:-1])\n",
    "proj_crankcase_2D_corr = # fill in\n",
    "plt.imshow(proj_crankcase_2D_corr, cmap=\"gray\")\n",
    "plt.xlabel(\"Detector size (pixels)\")\n",
    "plt.ylabel(\"Height\")\n",
    "plt.title(\"Crankcase projection\")\n",
    "plt.show()"
   ]
  },
  {
   "cell_type": "markdown",
   "id": "a59ff211-2d10-40fd-a519-46bd3f3ddd8a",
   "metadata": {},
   "source": [
    "### Take a slice\n",
    "\n",
    "In the code, what function enables to get the sinogram ? what is the link between the projections and the sinograms"
   ]
  },
  {
   "cell_type": "markdown",
   "id": "d65447b8-01d6-4533-bba3-75c1ef71b5f4",
   "metadata": {},
   "source": [
    "<strong> Answer :<strong>  "
   ]
  },
  {
   "cell_type": "code",
   "execution_count": null,
   "id": "2afa725d-ca3e-44cf-9747-8359bc7a2714",
   "metadata": {},
   "outputs": [],
   "source": [
    "sino_crankcase_3D = _3D_to_sinogramme_corr(path, 100, proj=True)"
   ]
  },
  {
   "cell_type": "markdown",
   "id": "08d4daec-e9ec-47ea-b412-cb6dfeadcdb1",
   "metadata": {},
   "source": [
    "### See the sinogram in 3D \n",
    "\n",
    "Use the function `plot_3D` to display one sinogram in 3D to show its intensity."
   ]
  },
  {
   "cell_type": "code",
   "execution_count": 4,
   "id": "681e0af1-2604-467f-9b7c-54f668e4d949",
   "metadata": {},
   "outputs": [],
   "source": [
    "#CODE "
   ]
  }
 ],
 "metadata": {
  "kernelspec": {
   "display_name": "Python 3 (ipykernel)",
   "language": "python",
   "name": "python3"
  },
  "language_info": {
   "codemirror_mode": {
    "name": "ipython",
    "version": 3
   },
   "file_extension": ".py",
   "mimetype": "text/x-python",
   "name": "python",
   "nbconvert_exporter": "python",
   "pygments_lexer": "ipython3",
   "version": "3.11.4"
  }
 },
 "nbformat": 4,
 "nbformat_minor": 5
}
